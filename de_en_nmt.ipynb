{
  "cells": [
    {
      "cell_type": "markdown",
      "metadata": {
        "id": "uXI_3h1CvE99"
      },
      "source": [
        "# German-to-English Machine Translation System"
      ]
    },
    {
      "cell_type": "markdown",
      "metadata": {
        "id": "ReOOjIELvKSE"
      },
      "source": [
        "In this notebook, we will go through an example of building and training a long short-term memory (LSTM) Seq2seq model with and without attention from scratch. It is trained on the [Multi30K](https://arxiv.org/abs/1605.00459) dataset with a training/validation/testing split of 29,000/1,014/1,000 examples. We also implement both greedy and beam search algorithms for inference. For the LSTM + attention model with beam search, the trained model achieves a BLEU score of ~37-38."
      ]
    },
    {
      "cell_type": "markdown",
      "metadata": {
        "id": "LUp0942RvTCu"
      },
      "source": [
        "## Setup"
      ]
    },
    {
      "cell_type": "markdown",
      "metadata": {
        "id": "g8xguPByvXoD"
      },
      "source": [
        "Let's install and import the necessary dependencies:\n",
        "* `torch` for modeling and training\n",
        "* `torchtext` for data collection\n",
        "* `sentencepiece` for subword tokenization\n",
        "* `sacrebleu` for BLEU score evaluation"
      ]
    },
    {
      "cell_type": "code",
      "execution_count": 1,
      "metadata": {
        "colab": {
          "base_uri": "https://localhost:8080/"
        },
        "id": "5KhVfLutuNLS",
        "outputId": "39105741-b661-4d66-fe7f-2bc17e139d45"
      },
      "outputs": [
        {
          "output_type": "stream",
          "name": "stdout",
          "text": [
            "Collecting sacrebleu\n",
            "  Downloading sacrebleu-2.5.1-py3-none-any.whl.metadata (51 kB)\n",
            "\u001b[?25l     \u001b[90m━━━━━━━━━━━━━━━━━━━━━━━━━━━━━━━━━━━━━━━━\u001b[0m \u001b[32m0.0/51.8 kB\u001b[0m \u001b[31m?\u001b[0m eta \u001b[36m-:--:--\u001b[0m\r\u001b[2K     \u001b[90m━━━━━━━━━━━━━━━━━━━━━━━━━━━━━━━━━━━━━━━━\u001b[0m \u001b[32m51.8/51.8 kB\u001b[0m \u001b[31m5.0 MB/s\u001b[0m eta \u001b[36m0:00:00\u001b[0m\n",
            "\u001b[?25hRequirement already satisfied: sentencepiece in /usr/local/lib/python3.12/dist-packages (0.2.1)\n",
            "Collecting portalocker (from sacrebleu)\n",
            "  Downloading portalocker-3.2.0-py3-none-any.whl.metadata (8.7 kB)\n",
            "Requirement already satisfied: regex in /usr/local/lib/python3.12/dist-packages (from sacrebleu) (2024.11.6)\n",
            "Requirement already satisfied: tabulate>=0.8.9 in /usr/local/lib/python3.12/dist-packages (from sacrebleu) (0.9.0)\n",
            "Requirement already satisfied: numpy>=1.17 in /usr/local/lib/python3.12/dist-packages (from sacrebleu) (2.0.2)\n",
            "Collecting colorama (from sacrebleu)\n",
            "  Downloading colorama-0.4.6-py2.py3-none-any.whl.metadata (17 kB)\n",
            "Requirement already satisfied: lxml in /usr/local/lib/python3.12/dist-packages (from sacrebleu) (5.4.0)\n",
            "Downloading sacrebleu-2.5.1-py3-none-any.whl (104 kB)\n",
            "\u001b[2K   \u001b[90m━━━━━━━━━━━━━━━━━━━━━━━━━━━━━━━━━━━━━━━━\u001b[0m \u001b[32m104.1/104.1 kB\u001b[0m \u001b[31m10.4 MB/s\u001b[0m eta \u001b[36m0:00:00\u001b[0m\n",
            "\u001b[?25hDownloading colorama-0.4.6-py2.py3-none-any.whl (25 kB)\n",
            "Downloading portalocker-3.2.0-py3-none-any.whl (22 kB)\n",
            "Installing collected packages: portalocker, colorama, sacrebleu\n",
            "Successfully installed colorama-0.4.6 portalocker-3.2.0 sacrebleu-2.5.1\n",
            "Collecting torchtext==0.6.0\n",
            "  Downloading torchtext-0.6.0-py3-none-any.whl.metadata (6.3 kB)\n",
            "Requirement already satisfied: tqdm in /usr/local/lib/python3.12/dist-packages (from torchtext==0.6.0) (4.67.1)\n",
            "Requirement already satisfied: requests in /usr/local/lib/python3.12/dist-packages (from torchtext==0.6.0) (2.32.4)\n",
            "Requirement already satisfied: torch in /usr/local/lib/python3.12/dist-packages (from torchtext==0.6.0) (2.8.0+cu126)\n",
            "Requirement already satisfied: numpy in /usr/local/lib/python3.12/dist-packages (from torchtext==0.6.0) (2.0.2)\n",
            "Requirement already satisfied: six in /usr/local/lib/python3.12/dist-packages (from torchtext==0.6.0) (1.17.0)\n",
            "Requirement already satisfied: sentencepiece in /usr/local/lib/python3.12/dist-packages (from torchtext==0.6.0) (0.2.1)\n",
            "Requirement already satisfied: charset_normalizer<4,>=2 in /usr/local/lib/python3.12/dist-packages (from requests->torchtext==0.6.0) (3.4.3)\n",
            "Requirement already satisfied: idna<4,>=2.5 in /usr/local/lib/python3.12/dist-packages (from requests->torchtext==0.6.0) (3.10)\n",
            "Requirement already satisfied: urllib3<3,>=1.21.1 in /usr/local/lib/python3.12/dist-packages (from requests->torchtext==0.6.0) (2.5.0)\n",
            "Requirement already satisfied: certifi>=2017.4.17 in /usr/local/lib/python3.12/dist-packages (from requests->torchtext==0.6.0) (2025.8.3)\n",
            "Requirement already satisfied: filelock in /usr/local/lib/python3.12/dist-packages (from torch->torchtext==0.6.0) (3.19.1)\n",
            "Requirement already satisfied: typing-extensions>=4.10.0 in /usr/local/lib/python3.12/dist-packages (from torch->torchtext==0.6.0) (4.15.0)\n",
            "Requirement already satisfied: setuptools in /usr/local/lib/python3.12/dist-packages (from torch->torchtext==0.6.0) (75.2.0)\n",
            "Requirement already satisfied: sympy>=1.13.3 in /usr/local/lib/python3.12/dist-packages (from torch->torchtext==0.6.0) (1.13.3)\n",
            "Requirement already satisfied: networkx in /usr/local/lib/python3.12/dist-packages (from torch->torchtext==0.6.0) (3.5)\n",
            "Requirement already satisfied: jinja2 in /usr/local/lib/python3.12/dist-packages (from torch->torchtext==0.6.0) (3.1.6)\n",
            "Requirement already satisfied: fsspec in /usr/local/lib/python3.12/dist-packages (from torch->torchtext==0.6.0) (2025.3.0)\n",
            "Requirement already satisfied: nvidia-cuda-nvrtc-cu12==12.6.77 in /usr/local/lib/python3.12/dist-packages (from torch->torchtext==0.6.0) (12.6.77)\n",
            "Requirement already satisfied: nvidia-cuda-runtime-cu12==12.6.77 in /usr/local/lib/python3.12/dist-packages (from torch->torchtext==0.6.0) (12.6.77)\n",
            "Requirement already satisfied: nvidia-cuda-cupti-cu12==12.6.80 in /usr/local/lib/python3.12/dist-packages (from torch->torchtext==0.6.0) (12.6.80)\n",
            "Requirement already satisfied: nvidia-cudnn-cu12==9.10.2.21 in /usr/local/lib/python3.12/dist-packages (from torch->torchtext==0.6.0) (9.10.2.21)\n",
            "Requirement already satisfied: nvidia-cublas-cu12==12.6.4.1 in /usr/local/lib/python3.12/dist-packages (from torch->torchtext==0.6.0) (12.6.4.1)\n",
            "Requirement already satisfied: nvidia-cufft-cu12==11.3.0.4 in /usr/local/lib/python3.12/dist-packages (from torch->torchtext==0.6.0) (11.3.0.4)\n",
            "Requirement already satisfied: nvidia-curand-cu12==10.3.7.77 in /usr/local/lib/python3.12/dist-packages (from torch->torchtext==0.6.0) (10.3.7.77)\n",
            "Requirement already satisfied: nvidia-cusolver-cu12==11.7.1.2 in /usr/local/lib/python3.12/dist-packages (from torch->torchtext==0.6.0) (11.7.1.2)\n",
            "Requirement already satisfied: nvidia-cusparse-cu12==12.5.4.2 in /usr/local/lib/python3.12/dist-packages (from torch->torchtext==0.6.0) (12.5.4.2)\n",
            "Requirement already satisfied: nvidia-cusparselt-cu12==0.7.1 in /usr/local/lib/python3.12/dist-packages (from torch->torchtext==0.6.0) (0.7.1)\n",
            "Requirement already satisfied: nvidia-nccl-cu12==2.27.3 in /usr/local/lib/python3.12/dist-packages (from torch->torchtext==0.6.0) (2.27.3)\n",
            "Requirement already satisfied: nvidia-nvtx-cu12==12.6.77 in /usr/local/lib/python3.12/dist-packages (from torch->torchtext==0.6.0) (12.6.77)\n",
            "Requirement already satisfied: nvidia-nvjitlink-cu12==12.6.85 in /usr/local/lib/python3.12/dist-packages (from torch->torchtext==0.6.0) (12.6.85)\n",
            "Requirement already satisfied: nvidia-cufile-cu12==1.11.1.6 in /usr/local/lib/python3.12/dist-packages (from torch->torchtext==0.6.0) (1.11.1.6)\n",
            "Requirement already satisfied: triton==3.4.0 in /usr/local/lib/python3.12/dist-packages (from torch->torchtext==0.6.0) (3.4.0)\n",
            "Requirement already satisfied: mpmath<1.4,>=1.1.0 in /usr/local/lib/python3.12/dist-packages (from sympy>=1.13.3->torch->torchtext==0.6.0) (1.3.0)\n",
            "Requirement already satisfied: MarkupSafe>=2.0 in /usr/local/lib/python3.12/dist-packages (from jinja2->torch->torchtext==0.6.0) (3.0.2)\n",
            "Downloading torchtext-0.6.0-py3-none-any.whl (64 kB)\n",
            "\u001b[2K   \u001b[90m━━━━━━━━━━━━━━━━━━━━━━━━━━━━━━━━━━━━━━━━\u001b[0m \u001b[32m64.2/64.2 kB\u001b[0m \u001b[31m6.9 MB/s\u001b[0m eta \u001b[36m0:00:00\u001b[0m\n",
            "\u001b[?25hInstalling collected packages: torchtext\n",
            "Successfully installed torchtext-0.6.0\n"
          ]
        }
      ],
      "source": [
        "!pip install --upgrade sacrebleu sentencepiece\n",
        "!pip install torchtext==0.6.0\n",
        "\n",
        "# Standard library imports\n",
        "import json\n",
        "import math\n",
        "import random\n",
        "import pdb\n",
        "\n",
        "# Third party imports\n",
        "import matplotlib.pyplot as plt\n",
        "import numpy as np\n",
        "import sacrebleu\n",
        "import sentencepiece\n",
        "import torch\n",
        "import torch.nn as nn\n",
        "import torch.nn.functional as F\n",
        "import torchtext\n",
        "import tqdm.notebook"
      ]
    },
    {
      "cell_type": "markdown",
      "metadata": {
        "id": "gJeJrMcRvrxh"
      },
      "source": [
        "Now let's confirm we have GPU access:"
      ]
    },
    {
      "cell_type": "code",
      "execution_count": 2,
      "metadata": {
        "colab": {
          "base_uri": "https://localhost:8080/"
        },
        "id": "19ja1gqSvuqL",
        "outputId": "eb094f4f-fdd3-47f7-fb44-caaa29c9b47e"
      },
      "outputs": [
        {
          "output_type": "stream",
          "name": "stdout",
          "text": [
            "Using device: cuda\n"
          ]
        }
      ],
      "source": [
        "device = \"cuda\" if torch.cuda.is_available() else \"cpu\"\n",
        "print(\"Using device:\", device)"
      ]
    },
    {
      "cell_type": "markdown",
      "metadata": {
        "id": "h7bT8ct7vxWm"
      },
      "source": [
        "## Loading the Multi30K Dataset"
      ]
    },
    {
      "cell_type": "code",
      "execution_count": 3,
      "metadata": {
        "colab": {
          "base_uri": "https://localhost:8080/"
        },
        "id": "ZmHaYSF1v3lg",
        "outputId": "bd0f6ed2-972d-4a77-c7b8-2e4b319a945e"
      },
      "outputs": [
        {
          "output_type": "stream",
          "name": "stdout",
          "text": [
            "downloading training.tar.gz\n"
          ]
        },
        {
          "output_type": "stream",
          "name": "stderr",
          "text": [
            "training.tar.gz: 100%|██████████| 1.21M/1.21M [00:00<00:00, 137MB/s]\n"
          ]
        },
        {
          "output_type": "stream",
          "name": "stdout",
          "text": [
            "downloading validation.tar.gz\n"
          ]
        },
        {
          "output_type": "stream",
          "name": "stderr",
          "text": [
            "validation.tar.gz: 100%|██████████| 46.3k/46.3k [00:00<00:00, 59.1MB/s]\n"
          ]
        },
        {
          "output_type": "stream",
          "name": "stdout",
          "text": [
            "downloading mmt16_task1_test.tar.gz\n"
          ]
        },
        {
          "output_type": "stream",
          "name": "stderr",
          "text": [
            "mmt16_task1_test.tar.gz: 100%|██████████| 67.1k/67.1k [00:00<00:00, 74.1MB/s]\n"
          ]
        }
      ],
      "source": [
        "from torchtext.datasets import Multi30k\n",
        "\n",
        "Multi30k.urls = [\n",
        "    \"https://raw.githubusercontent.com/neychev/small_DL_repo/master/datasets/Multi30k/training.tar.gz\",\n",
        "    \"https://raw.githubusercontent.com/neychev/small_DL_repo/master/datasets/Multi30k/validation.tar.gz\",\n",
        "    \"https://raw.githubusercontent.com/neychev/small_DL_repo/master/datasets/Multi30k/mmt16_task1_test.tar.gz\"\n",
        "]\n",
        "\n",
        "extensions = [\".de\", \".en\"]\n",
        "source_field = torchtext.data.Field(tokenize=lambda x: x)\n",
        "target_field = torchtext.data.Field(tokenize=lambda x: x)\n",
        "training_data, validation_data, test_data = torchtext.datasets.Multi30k.splits(\n",
        "    extensions, [source_field, target_field], root=\"/content/\", test=\"test\")"
      ]
    },
    {
      "cell_type": "markdown",
      "metadata": {
        "id": "pmggO4yjv-TL"
      },
      "source": [
        "## Creating the Vocabulary"
      ]
    },
    {
      "cell_type": "markdown",
      "metadata": {
        "id": "JH2INchPwBAX"
      },
      "source": [
        "In this project, we use the `sentencepiece` tokenizer to create a joint German-English subword vocabulary. This is a relatively small dataset so we will use a small vocabulary size."
      ]
    },
    {
      "cell_type": "code",
      "execution_count": 4,
      "metadata": {
        "colab": {
          "base_uri": "https://localhost:8080/"
        },
        "id": "dqToZOtZwD7V",
        "outputId": "cdbf046b-2ad9-4431-f0eb-bf246cf2e294"
      },
      "outputs": [
        {
          "output_type": "stream",
          "name": "stdout",
          "text": [
            "Vocabulary size: 8000\n"
          ]
        }
      ],
      "source": [
        "# Define the special tokens\n",
        "args = {\n",
        "  \"pad_id\": 0,\n",
        "  \"bos_id\": 1,\n",
        "  \"eos_id\": 2,\n",
        "  \"unk_id\": 3,\n",
        "  \"input\": \"/content/multi30k/train.de,/content/multi30k/train.en\",\n",
        "  \"vocab_size\": 8000,\n",
        "  \"model_prefix\": \"multi30k\",\n",
        "}\n",
        "combined_args = \" \".join(\n",
        "    \"--{}={}\".format(key, value) for key, value in args.items())\n",
        "sentencepiece.SentencePieceTrainer.Train(combined_args)\n",
        "\n",
        "# Load the vocabulary from the binary file\n",
        "vocab = sentencepiece.SentencePieceProcessor()\n",
        "vocab.Load(\"multi30k.model\")\n",
        "\n",
        "# Get the vocab size\n",
        "print(\"Vocabulary size:\", vocab.GetPieceSize())"
      ]
    },
    {
      "cell_type": "markdown",
      "metadata": {
        "id": "jv9ypwjSwHHO"
      },
      "source": [
        "Now we define the padding, beginning-of-sentence, and end-of-sentence tokens:"
      ]
    },
    {
      "cell_type": "code",
      "execution_count": 5,
      "metadata": {
        "id": "qtpErH-fwHpW"
      },
      "outputs": [],
      "source": [
        "pad_id = vocab.PieceToId(\"<pad>\")\n",
        "bos_id = vocab.PieceToId(\"<s>\")\n",
        "eos_id = vocab.PieceToId(\"</s>\")"
      ]
    },
    {
      "cell_type": "markdown",
      "metadata": {
        "id": "1WomXHf5wLeZ"
      },
      "source": [
        "## Baseline sequence-to-sequence model\n",
        "\n",
        "We first write some batched functions to convert our input sentences into the subword indices."
      ]
    },
    {
      "cell_type": "code",
      "execution_count": 6,
      "metadata": {
        "id": "vxOmy7fxwPLp"
      },
      "outputs": [],
      "source": [
        "from torch.nn.utils.rnn import pad_sequence\n",
        "\n",
        "def make_batch(sentences):\n",
        "  \"\"\"\n",
        "  Converts a list of sentences into a batch of subword indices.\n",
        "\n",
        "  Args:\n",
        "    sentences: A list of sentences (string types)\n",
        "\n",
        "  Returns:\n",
        "    A LongTensor of size (max_sequence_length, batch_size) containing the\n",
        "    subword indices for the sentences, where max_sequence_length is the length\n",
        "    of the longest sentence as encoded by the subword vocabulary and batch_size\n",
        "    is the number of sentences in the batch. A beginning-of-sentence token\n",
        "    is included before each sequence, and an end-of-sentence token is\n",
        "    included after each sequence. Empty slots at the end of shorter sequences\n",
        "    are filled with padding tokens.\n",
        "  \"\"\"\n",
        "\n",
        "  # Sandwich each sentence with BOS and EOS tokens\n",
        "  sequences = []\n",
        "  for sentence in sentences:\n",
        "    ids = [bos_id] + vocab.EncodeAsIds(sentence) + [eos_id]\n",
        "    sequences.append(torch.tensor(ids, dtype=torch.long))\n",
        "\n",
        "  # Pad the sequences to the max length using pad_sequence\n",
        "  batch = pad_sequence(sequences, padding_value=pad_id)\n",
        "\n",
        "  return batch.to(device)\n",
        "\n",
        "def make_batch_iterator(dataset, batch_size, shuffle=False):\n",
        "  \"\"\"\n",
        "  Make a batch iterator that yields source-target pairs.\n",
        "\n",
        "  Args:\n",
        "    dataset: A torchtext dataset object.\n",
        "    batch_size: An integer batch size.\n",
        "    shuffle: A boolean indicating whether to shuffle the examples.\n",
        "\n",
        "  Returns:\n",
        "    Pairs of tensors constructed by calling the make_batch function on the\n",
        "    source and target sentences in the current group of examples. The max\n",
        "    sequence length can differ between the source and target tensor, but the\n",
        "    batch size will be the same.\n",
        "  \"\"\"\n",
        "  # Convert to list\n",
        "  examples = list(dataset)\n",
        "\n",
        "  # Shuffle if you want\n",
        "  if shuffle:\n",
        "    random.shuffle(examples)\n",
        "\n",
        "  # Loop over batches of language pairs\n",
        "  for start_index in range(0, len(examples), batch_size):\n",
        "    example_batch = examples[start_index:start_index + batch_size]\n",
        "    source_sentences = [example.src for example in example_batch]\n",
        "    target_sentences = [example.trg for example in example_batch]\n",
        "    yield make_batch(source_sentences), make_batch(target_sentences)"
      ]
    },
    {
      "cell_type": "markdown",
      "metadata": {
        "id": "cM0PEqG_wSA2"
      },
      "source": [
        "Here we define the baseline Seq2seq model. It consists of a bidirectional LSTM encoder that encodes the input sentence into a fixed-size representation, and an LSTM decoder that uses this representation to produce the output sentence.\n"
      ]
    },
    {
      "cell_type": "code",
      "execution_count": 7,
      "metadata": {
        "id": "Y0qaAfj4wVvK"
      },
      "outputs": [],
      "source": [
        "import torch\n",
        "import torch.nn as nn\n",
        "import torch.nn.functional as F\n",
        "from torch.nn.utils.rnn import pack_padded_sequence, pad_packed_sequence\n",
        "\n",
        "# Baseline model class\n",
        "class Seq2seqBaseline(nn.Module):\n",
        "  def __init__(self, vocab_size=8000, embedding_dim=512, hidden_size=512,\n",
        "               num_layers=2, dropout=0.3):\n",
        "    super().__init__()\n",
        "\n",
        "    # Embedding layer shared by encoder and decoder\n",
        "    # Converts indices to embeddings\n",
        "    # Dimension: (# batch_size) x (vocab_size) x (embedding_dim)\n",
        "    self.embedding = nn.Embedding(vocab_size, embedding_dim, padding_idx=pad_id)\n",
        "\n",
        "    # Bidirectional LSTM encoder\n",
        "    self.encoder = nn.LSTM(embedding_dim, hidden_size, num_layers=num_layers,\n",
        "      dropout=dropout if num_layers > 1 else 0, bidirectional=True)\n",
        "\n",
        "    # Decoder LSTM (unidirectional)\n",
        "    self.decoder = nn.LSTM(embedding_dim, hidden_size, num_layers=num_layers,\n",
        "      dropout=dropout if num_layers > 1 else 0, bidirectional=False)\n",
        "\n",
        "    # Projection to convert encoder hidden state to decoder initial hidden state\n",
        "    # size (hidden_size*2 per layer b/c encoder is bidirectional)\n",
        "    self.hidden_proj_h = nn.Linear(hidden_size * 2, hidden_size)\n",
        "    self.hidden_proj_c = nn.Linear(hidden_size * 2, hidden_size)\n",
        "\n",
        "    # Output projection to vocab size\n",
        "    self.output_projection = nn.Linear(hidden_size, vocab_size)\n",
        "\n",
        "  def encode(self, source):\n",
        "    \"\"\"\n",
        "    Args:\n",
        "      source: (max_source_length, batch_size)\n",
        "    Returns:\n",
        "      encoder_output: (max_source_length, batch_size, hidden_size * 2)\n",
        "      encoder_mask: (max_source_length, batch_size) bool tensor\n",
        "      encoder_hidden: tuple of (h_n, c_n), (num_layers, batch_size, hidden_size)\n",
        "    \"\"\"\n",
        "    # Get the max_source_length\n",
        "    lengths = torch.sum(source != pad_id, dim=0)\n",
        "\n",
        "    # Embed (max_source_length, batch_size, embedding_dim)\n",
        "    embedded = self.embedding(source)\n",
        "\n",
        "    # Pack padded sequence for variable lengths\n",
        "    # Ignores the padding tokens to make it more efficient\n",
        "    packed = pack_padded_sequence(embedded, lengths.cpu(), enforce_sorted=False)\n",
        "\n",
        "    # Encode the packed sequence\n",
        "    packed_output, (h_n, c_n) = self.encoder(packed)\n",
        "\n",
        "    # Unpack outputs (max_len, batch_size, hidden_size*2)\n",
        "    encoder_output, _ = pad_packed_sequence(packed_output)\n",
        "\n",
        "    # Create mask where padding tokens are True\n",
        "    encoder_mask = (source == pad_id)\n",
        "\n",
        "    # h_n shape: (num_layers * 2, batch_size, hidden_size)\n",
        "    # Split forward and backward states (num_layers, batch_size, hidden_size)\n",
        "    h_forward = h_n[0::2]\n",
        "    h_backward = h_n[1::2]\n",
        "    c_forward = c_n[0::2]\n",
        "    c_backward = c_n[1::2]\n",
        "\n",
        "    # Concatenate (along hidden_size dim)\n",
        "    # (num_layers, batch_size, hidden_size*2)\n",
        "    h_cat = torch.cat([h_forward, h_backward], dim=2)\n",
        "    c_cat = torch.cat([c_forward, c_backward], dim=2)\n",
        "\n",
        "    # Project to decoder hidden size\n",
        "    # (num_layers, batch_size, hidden_size)\n",
        "    h_proj = self.hidden_proj_h(h_cat)\n",
        "    c_proj = self.hidden_proj_c(c_cat)\n",
        "\n",
        "    # Get hidden encoder state\n",
        "    encoder_hidden = (h_proj, c_proj)\n",
        "\n",
        "    return encoder_output, encoder_mask, encoder_hidden\n",
        "\n",
        "  def decode(self, decoder_input, initial_hidden, encoder_output, encoder_mask):\n",
        "    \"\"\"\n",
        "    Args:\n",
        "      decoder_input: (max_decoder_len, batch_size)\n",
        "      initial_hidden: tuple (h_0, c_0), each (num_layers, batch_size,\n",
        "      hidden_size)\n",
        "      encoder_output and encoder_mask not used here.\n",
        "\n",
        "    Returns:\n",
        "      logits: (max_decoder_len, batch_size, vocab_size)\n",
        "      decoder_hidden: same shape as initial_hidden\n",
        "      attention_weights: None (for baseline)\n",
        "    \"\"\"\n",
        "    # Embed the decoder input\n",
        "    embedded = self.embedding(decoder_input)\n",
        "\n",
        "    # Decode using the initial hidden state\n",
        "    output, decoder_hidden = self.decoder(embedded, initial_hidden)\n",
        "\n",
        "    # Project output to vocab size\n",
        "    logits = self.output_projection(output)\n",
        "\n",
        "    return logits, decoder_hidden, None\n",
        "\n",
        "  def compute_loss(self, source, target):\n",
        "    \"\"\"\n",
        "    Compute cross-entropy loss for prediction on target sequences.\n",
        "\n",
        "    Args:\n",
        "      source: (max_source_length, batch_size)\n",
        "      target: (max_target_length, batch_size)\n",
        "    \"\"\"\n",
        "    # Encode source\n",
        "    encoder_output, encoder_mask, encoder_hidden = self.encode(source)\n",
        "\n",
        "    # Prepare decoder input and target output by removing the last and first\n",
        "    # tokens from the target, respectively\n",
        "    # We want the decoder_input to predict target_output as closely as possible\n",
        "    decoder_input = target[:-1]\n",
        "    target_output = target[1:]\n",
        "\n",
        "    # Get the logits\n",
        "    logits, _, _ = self.decode(decoder_input, encoder_hidden, encoder_output,\n",
        "                               encoder_mask)\n",
        "    # Flatten for loss\n",
        "    logits_flat = logits.reshape(-1, logits.size(-1))\n",
        "    target_flat = target_output.reshape(-1)\n",
        "\n",
        "    # Calculate the loss using cross entropy\n",
        "    loss = F.cross_entropy(logits_flat, target_flat, ignore_index=pad_id)\n",
        "\n",
        "    return loss"
      ]
    },
    {
      "cell_type": "markdown",
      "metadata": {
        "id": "5AHy6zh1wYoR"
      },
      "source": [
        "For training the Seq2seq model, we use cross-entropy as our loss function. Specifically, for each time step we compare the target token and the token with the highest predicted probability. For parameter optimization, we use Adam with a learning rate of 1e-3 and a weight decay of 1e-5 (to prevent overfitting). We also evaluate the token-level accuracy to see how well the current set of parameters do on the validation set."
      ]
    },
    {
      "cell_type": "code",
      "execution_count": 8,
      "metadata": {
        "id": "xU5CDbc_wcwY"
      },
      "outputs": [],
      "source": [
        "def train(model, num_epochs, batch_size, model_file):\n",
        "  \"\"\"\n",
        "  Train the model and save its best checkpoint.\n",
        "\n",
        "  Model performance across epochs is evaluated using token-level accuracy on the\n",
        "  validation set. The best checkpoint obtained during training will be stored on\n",
        "  disk and loaded back into the model at the end of training.\n",
        "  \"\"\"\n",
        "  # Using Adam as the optimizer\n",
        "  optimizer = torch.optim.Adam(model.parameters(), lr=1e-3, weight_decay=1e-5)\n",
        "\n",
        "  # Initialize the accuracy\n",
        "  best_accuracy = 0.0\n",
        "\n",
        "  # Using tqdm library to visualize progress\n",
        "  for epoch in tqdm.notebook.trange(num_epochs, desc=\"training\", unit=\"epoch\"):\n",
        "\n",
        "    with tqdm.notebook.tqdm(\n",
        "      # Make batches of the training data\n",
        "      make_batch_iterator(training_data, batch_size, shuffle=True),\n",
        "      desc=\"epoch {}\".format(epoch + 1), unit=\"batch\",\n",
        "      total=math.ceil(len(training_data) / batch_size)) as batch_iterator:\n",
        "\n",
        "      # Enable dropout in training\n",
        "      model.train()\n",
        "\n",
        "      # Initialize loss\n",
        "      total_loss = 0.0\n",
        "\n",
        "      # Loop over batches\n",
        "      for i, (source, target) in enumerate(batch_iterator, start=1):\n",
        "\n",
        "        # Zero out the gradients for the new batch\n",
        "        optimizer.zero_grad()\n",
        "\n",
        "        # Do a forward pass and compute the loss\n",
        "        loss = model.compute_loss(source, target)\n",
        "        total_loss += loss.item()\n",
        "\n",
        "        # Backpropagation\n",
        "        loss.backward()\n",
        "\n",
        "        # Update the parameters\n",
        "        optimizer.step()\n",
        "        batch_iterator.set_postfix(mean_loss=total_loss / i)\n",
        "\n",
        "      # Predict the next tokens (those with the highest probability)\n",
        "      validation_accuracy = token_level_accuracy(model, validation_data)\n",
        "\n",
        "      # Show mean loss updates\n",
        "      batch_iterator.set_postfix(mean_loss=total_loss / i,\n",
        "        validation_token_accuracy=validation_accuracy)\n",
        "\n",
        "      # Save model if our validation accuracy improves\n",
        "      if validation_accuracy > best_accuracy:\n",
        "        print(\"New best validation accuracy of {:.2f}, saving model \"\n",
        "              \"checkpoint to {}\".format(validation_accuracy, model_file))\n",
        "        torch.save(model.state_dict(), model_file)\n",
        "        best_accuracy = validation_accuracy\n",
        "\n",
        "  print(\"Reloading best model checkpoint from {}\".format(model_file))\n",
        "  model.load_state_dict(torch.load(model_file))\n",
        "  return best_accuracy\n",
        "\n",
        "def token_level_accuracy(model, dataset, batch_size=64):\n",
        "  \"\"\"\n",
        "  Computes token-level accuracy on the validation set.\n",
        "\n",
        "  \"\"\"\n",
        "  # Switch to inference\n",
        "  model.eval()\n",
        "\n",
        "  # Initialize for accuracy metrics\n",
        "  total_predictions = 0\n",
        "  correct_predictions = 0\n",
        "\n",
        "  with torch.no_grad():\n",
        "\n",
        "    # Loop over batches of language pairs\n",
        "    for source, target in make_batch_iterator(dataset, batch_size):\n",
        "\n",
        "      # Encode the source\n",
        "      encoder_output, encoder_mask, encoder_hidden = model.encode(source)\n",
        "\n",
        "      # Get the target tokens for each time step\n",
        "      decoder_input, decoder_target = target[:-1], target[1:]\n",
        "\n",
        "      # Get the probability distribution of predicted tokens\n",
        "      logits, decoder_hidden, attention_weights = model.decode(\n",
        "        decoder_input, encoder_hidden, encoder_output, encoder_mask)\n",
        "\n",
        "      # Get the total number of predictions by omitting padding tokens\n",
        "      total_predictions += (decoder_target != pad_id).sum().item()\n",
        "\n",
        "      # Get number of correct predictions\n",
        "      correct_predictions += ((decoder_target != pad_id) &\n",
        "        (decoder_target == logits.argmax(2))).sum().item()\n",
        "\n",
        "  # Get the total accuracy on the validation set\n",
        "  accuracy = 100 * correct_predictions / total_predictions\n",
        "\n",
        "  return accuracy"
      ]
    },
    {
      "cell_type": "markdown",
      "metadata": {
        "id": "ukiEDX7YwfZ6"
      },
      "source": [
        "Now we go ahead and train the baseline model!"
      ]
    },
    {
      "cell_type": "code",
      "execution_count": null,
      "metadata": {
        "id": "t0zfDlrrwoy7"
      },
      "outputs": [],
      "source": [
        "# Choose the number of epochs and batch size\n",
        "num_epochs = 10\n",
        "batch_size = 16\n",
        "\n",
        "# Initialize model\n",
        "baseline_model = Seq2seqBaseline().to(device)\n",
        "\n",
        "# Now pass the model to the training function\n",
        "baseline_accuracy = train(baseline_model, num_epochs, batch_size,\n",
        "                          \"baseline_model.pt\")"
      ]
    },
    {
      "cell_type": "code",
      "source": [
        "print(\"Baseline model best accuracy:\", baseline_accuracy)"
      ],
      "metadata": {
        "colab": {
          "base_uri": "https://localhost:8080/"
        },
        "id": "zrPxyts18zkl",
        "outputId": "48c02e7c-ff8e-4c3c-d046-d6294a66989a"
      },
      "execution_count": 10,
      "outputs": [
        {
          "output_type": "stream",
          "name": "stdout",
          "text": [
            "Baseline model best accuracy: 58.37084540913856\n"
          ]
        }
      ]
    },
    {
      "cell_type": "markdown",
      "metadata": {
        "id": "ErrD1DPEwr4n"
      },
      "source": [
        "# Inference with Greedy Search\n",
        "\n",
        "Now we implement greedy search, which is more simple compared to beam search. For every input token, it selects the most probable translation token as predicted by the decoder. This is the most efficient method of inference we explore here. However, the known downside is that each step is irreversible and thus may not be able to find the overall most probable prediction for a full sequence."
      ]
    },
    {
      "cell_type": "code",
      "execution_count": 11,
      "metadata": {
        "colab": {
          "base_uri": "https://localhost:8080/"
        },
        "id": "nta7BMoYwyl-",
        "outputId": "a266015e-d8cb-4616-ba51-aa03d6a2be81"
      },
      "outputs": [
        {
          "output_type": "stream",
          "name": "stdout",
          "text": [
            "Baseline model validation BLEU using greedy search: 22.968243227423688\n"
          ]
        }
      ],
      "source": [
        "def predict_greedy(model, sentences, max_length=100):\n",
        "  \"\"\"\n",
        "  Make predictions for the given inputs using greedy inference.\n",
        "\n",
        "  Args:\n",
        "    model: A sequence-to-sequence model\n",
        "    sentences: A list of input sentences (string type)\n",
        "    max_length: The maximum length at which to truncate outputs in order to\n",
        "      avoid non-terminating inference\n",
        "\n",
        "  Returns:\n",
        "    A list of predicted translations (string type)\n",
        "  \"\"\"\n",
        "  # Convert sentences to token indices\n",
        "  batch = make_batch(sentences)\n",
        "\n",
        "  with torch.no_grad():\n",
        "    # Encode the source\n",
        "    encoder_output, encoder_mask, encoder_hidden = model.encode(batch)\n",
        "    batch_size = batch.size(1)\n",
        "\n",
        "    # Decoder starts with BOS tokens for all items in batch\n",
        "    seq = torch.full((1, batch_size), bos_id, dtype=torch.long, device=device)\n",
        "\n",
        "    # Bool tensor to keep track of whether each sentence is finished\n",
        "    finished = torch.zeros(batch_size, dtype=torch.bool, device=device)\n",
        "\n",
        "    # Loop over the designated maximum length of our output string\n",
        "    for _ in range(max_length):\n",
        "\n",
        "      # Decode full sequence so far in one call\n",
        "      logits, decoder_hidden, attention_weights = model.decode(\n",
        "          seq, encoder_hidden, encoder_output, encoder_mask)\n",
        "\n",
        "      # Take the logits from the previous step\n",
        "      next_logits = logits[-1, :, :]\n",
        "\n",
        "      # Force the pad token to be chosen if the sentence is completed\n",
        "      if finished.any():\n",
        "        next_logits[finished] += 1e9 * torch.eye((next_logits.size(1)),\n",
        "                                                   device=device)[pad_id]\n",
        "      # Choose the most probable token\n",
        "      # Note we don't have to do softmax here since there is only 1\n",
        "      # inference per input sentence\n",
        "      next_tokens = next_logits.argmax(dim=-1)\n",
        "\n",
        "      # Concatenate to the current sequence\n",
        "      seq = torch.cat([seq, next_tokens.reshape(-1,batch_size)], dim=0)\n",
        "\n",
        "      # Mark finished sequences\n",
        "      finished |= (next_tokens == eos_id)\n",
        "\n",
        "      # End early if all examples in the batch are completed\n",
        "      if finished.all():\n",
        "        break\n",
        "\n",
        "    # Convert token IDs to text\n",
        "    decoded_sentences = []\n",
        "    for i in range(batch_size):\n",
        "      ids = seq[:, i].tolist()\n",
        "      decoded = vocab.DecodeIds(ids)\n",
        "      decoded_sentences.append(decoded)\n",
        "\n",
        "    return decoded_sentences\n",
        "\n",
        "def evaluate(model, dataset, batch_size=64, method=\"greedy\"):\n",
        "  \"\"\"\n",
        "  Evaluate the performance of inference using BLEU score.\n",
        "\n",
        "  \"\"\"\n",
        "  assert method in {\"greedy\", \"beam\"}\n",
        "\n",
        "  # Get source and target sentences from the dataset\n",
        "  source_sentences = [example.src for example in dataset]\n",
        "  target_sentences = [example.trg for example in dataset]\n",
        "\n",
        "  # Inference mode\n",
        "  model.eval()\n",
        "  predictions = []\n",
        "  with torch.no_grad():\n",
        "\n",
        "    # Loop over batches and predict translations\n",
        "    for start_index in range(0, len(source_sentences), batch_size):\n",
        "\n",
        "      # If using greedy search\n",
        "      if method == \"greedy\":\n",
        "        prediction_batch = predict_greedy(\n",
        "            model, source_sentences[start_index:start_index + batch_size])\n",
        "\n",
        "      # If beam search\n",
        "      else:\n",
        "        prediction_batch = predict_beam(\n",
        "            model, source_sentences[start_index:start_index + batch_size])\n",
        "        # Take the most probable prediction from beam search\n",
        "        prediction_batch = [candidates[0] for candidates in prediction_batch]\n",
        "      predictions.extend(prediction_batch)\n",
        "\n",
        "  # Calculate BLEU score\n",
        "  return sacrebleu.corpus_bleu(predictions, [target_sentences]).score\n",
        "\n",
        "print(\"Baseline model validation BLEU using greedy search:\",\n",
        "      evaluate(baseline_model, validation_data))"
      ]
    },
    {
      "cell_type": "markdown",
      "metadata": {
        "id": "9m1-z6Q4w2v5"
      },
      "source": [
        "Let's show some example predictions!"
      ]
    },
    {
      "cell_type": "code",
      "execution_count": 12,
      "metadata": {
        "colab": {
          "base_uri": "https://localhost:8080/"
        },
        "id": "uWlOOcOTw3VI",
        "outputId": "92042bf6-7d82-4f7e-d0e1-01cbf04cd597"
      },
      "outputs": [
        {
          "output_type": "stream",
          "name": "stdout",
          "text": [
            "Baseline model sample predictions:\n",
            "\n",
            "Input:\n",
            "  Eine Gruppe von Männern lädt Baumwolle auf einen Lastwagen\n",
            "Target:\n",
            "  A group of men are loading cotton onto a truck\n",
            "Greedy prediction:\n",
            "  A group of men are doing repairs on a tree.\n",
            "-------------------------------------------------------------------\n",
            "Input:\n",
            "  Ein Mann schläft in einem grünen Raum auf einem Sofa.\n",
            "Target:\n",
            "  A man sleeping in a green room on a couch.\n",
            "Greedy prediction:\n",
            "  A man is sleeping on a green chair with a green book.\n",
            "-------------------------------------------------------------------\n",
            "Input:\n",
            "  Ein Junge mit Kopfhörern sitzt auf den Schultern einer Frau.\n",
            "Target:\n",
            "  A boy wearing headphones sits on a woman's shoulders.\n",
            "Greedy prediction:\n",
            "  A boy wearing suspenders sits on a bench with his woman.\n",
            "-------------------------------------------------------------------\n",
            "Input:\n",
            "  Zwei Männer bauen eine blaue Eisfischerhütte auf einem zugefrorenen See auf\n",
            "Target:\n",
            "  Two men setting up a blue ice fishing hut on an iced over lake\n",
            "Greedy prediction:\n",
            "  Two men are setting up a tree in a lake, some sort of planting water.\n",
            "-------------------------------------------------------------------\n"
          ]
        }
      ],
      "source": [
        "def show_predictions(model, num_examples=4, include_beam=False):\n",
        "  \"\"\"\n",
        "  Show some example predictions for funsies.\n",
        "\n",
        "  \"\"\"\n",
        "  for example in validation_data[:num_examples]:\n",
        "    print(\"Input:\")\n",
        "    print(\" \", example.src)\n",
        "    print(\"Target:\")\n",
        "    print(\" \", example.trg)\n",
        "    print(\"Greedy prediction:\")\n",
        "    print(\" \", predict_greedy(model, [example.src])[0])\n",
        "    if include_beam:\n",
        "      print(\"Beam predictions:\")\n",
        "      for candidate in predict_beam(model, [example.src])[0]:\n",
        "        print(\" \", candidate)\n",
        "    print(\"-------------------------------------------------------------------\")\n",
        "\n",
        "print(\"Baseline model sample predictions:\")\n",
        "print()\n",
        "show_predictions(baseline_model)"
      ]
    },
    {
      "cell_type": "markdown",
      "metadata": {
        "id": "RsugwVy1w86r"
      },
      "source": [
        "## Sequence-to-sequence model with attention\n",
        "\n",
        "Now we add an attention mechanism to the model, which mitigates the memory bottleneck of the encoder LSTM's internal hidden state by allowing the model to focus on different parts of the input sequence. We increased the number of layers to better process the context vector while we increased the dropout rate to avoid overfitting. Note that we need to overload the decode function to integrate the attention."
      ]
    },
    {
      "cell_type": "code",
      "execution_count": 13,
      "metadata": {
        "id": "UB44LVdixBAr"
      },
      "outputs": [],
      "source": [
        "class Seq2seqAttention(Seq2seqBaseline):\n",
        "  def __init__(self, vocab_size=8000, embedding_dim=512, hidden_size=512,\n",
        "               num_layers=3, dropout=0.4):\n",
        "    super().__init__(vocab_size, embedding_dim, hidden_size, num_layers,\n",
        "                     dropout)\n",
        "\n",
        "    # Project encoder outputs from (2*hidden_size) to hidden_size for attention\n",
        "    # compatibility\n",
        "    self.encoder_proj = nn.Linear(2 * hidden_size, hidden_size)\n",
        "\n",
        "    # Bilinear attention weight matrix (hidden_size x hidden_size)\n",
        "    self.attn_weight = nn.Linear(hidden_size, hidden_size)\n",
        "\n",
        "    # Dropout for the attention output\n",
        "    self.attn_dropout = nn.Dropout(p=0.3)\n",
        "\n",
        "    # Project for compatibility with the output_projection\n",
        "    self.attn_combine = nn.Linear(hidden_size * 2, hidden_size)\n",
        "\n",
        "  def decode(self, decoder_input, initial_hidden, encoder_output, encoder_mask):\n",
        "    \"\"\"\n",
        "    Args:\n",
        "      decoder_input: (max_decoder_len, batch_size)\n",
        "      initial_hidden: tuple (h_0, c_0), each (num_layers, batch_size,\n",
        "      hidden_size)\n",
        "      encoder_output: (max_source_len, batch_size, hidden_size*2)\n",
        "      encoder_mask: (max_source_len, batch_size)\n",
        "\n",
        "    Returns:\n",
        "      logits: (max_decoder_len, batch_size, vocab_size)\n",
        "      decoder_hidden: same shape as initial_hidden\n",
        "      attention_weights: (max_decoder_len, batch_size, max_source_len)\n",
        "    \"\"\"\n",
        "    # Embed the decoder input\n",
        "    embedded = self.embedding(decoder_input)\n",
        "    max_decoder_len, batch_size, _ = embedded.size()\n",
        "    max_source_len = encoder_output.size(0)\n",
        "\n",
        "    # Run the decoder\n",
        "    decoder_output, decoder_hidden = self.decoder(embedded, initial_hidden)\n",
        "\n",
        "    # Project encoder outputs to hidden_size for bilinear attention\n",
        "    encoder_proj = self.encoder_proj(encoder_output)\n",
        "\n",
        "    # Project decoder outputs using the bilinear weight matrix\n",
        "    decoder_proj = self.attn_weight(decoder_output)\n",
        "\n",
        "    # Compute attention scores using einsum\n",
        "    attn_logits = torch.einsum('tbh,sbh->tsb', decoder_proj, encoder_proj)\n",
        "    attn_logits = attn_logits.permute(0, 2, 1)\n",
        "\n",
        "    # Mask out padding positions in the encoder\n",
        "    encoder_mask = encoder_mask.transpose(0, 1).unsqueeze(0)\n",
        "    attn_logits.masked_fill_(encoder_mask, -1e9)\n",
        "\n",
        "    # Compute normalized attention weights\n",
        "    attention_weights = F.softmax(attn_logits, dim=-1)\n",
        "\n",
        "    # Compute context vectors as weighted sum of encoder_proj\n",
        "    encoder_proj_t = encoder_proj.transpose(0, 1)\n",
        "    context = torch.einsum('tbs,bsh->tbh', attention_weights, encoder_proj_t)\n",
        "\n",
        "    # Combine context with decoder output\n",
        "    decoder_output_combined = self.attn_combine(torch.cat([decoder_output,\n",
        "                                                           context], dim=2))\n",
        "    decoder_output_combined = self.attn_dropout(decoder_output_combined)\n",
        "\n",
        "    # Project to vocabulary size\n",
        "    logits = self.output_projection(decoder_output_combined)\n",
        "\n",
        "    return logits, decoder_hidden, attention_weights\n"
      ]
    },
    {
      "cell_type": "code",
      "execution_count": null,
      "metadata": {
        "id": "MzsPUt8BxFYE"
      },
      "outputs": [],
      "source": [
        "# Set the number of epochs and batch size\n",
        "num_epochs = 15\n",
        "batch_size = 64\n",
        "\n",
        "# Initialize attention model\n",
        "attention_model = Seq2seqAttention().to(device)\n",
        "\n",
        "# Train\n",
        "attention_accuracy = train(attention_model, num_epochs, batch_size,\n",
        "                           \"attention_model.pt\")\n",
        "print(\"Attention model validation BLEU using greedy search:\",\n",
        "      evaluate(attention_model, validation_data))"
      ]
    },
    {
      "cell_type": "code",
      "source": [
        "print(\"Attention model best accuracy:\", attention_accuracy)"
      ],
      "metadata": {
        "colab": {
          "base_uri": "https://localhost:8080/"
        },
        "id": "6aWPxYMD9GrP",
        "outputId": "16b59adb-c8f7-4153-a9fd-521c7020c182"
      },
      "execution_count": 15,
      "outputs": [
        {
          "output_type": "stream",
          "name": "stdout",
          "text": [
            "Attention model best accuracy: 66.09730529691065\n"
          ]
        }
      ]
    },
    {
      "cell_type": "code",
      "execution_count": 16,
      "metadata": {
        "colab": {
          "base_uri": "https://localhost:8080/"
        },
        "id": "yxlce1T1xJt9",
        "outputId": "26153a53-bbbc-42f9-e8c3-233b32717bca"
      },
      "outputs": [
        {
          "output_type": "stream",
          "name": "stdout",
          "text": [
            "Attention model validation BLEU using greedy search: 35.95255069717753\n",
            "\n",
            "Attention model sample predictions:\n",
            "\n",
            "Input:\n",
            "  Eine Gruppe von Männern lädt Baumwolle auf einen Lastwagen\n",
            "Target:\n",
            "  A group of men are loading cotton onto a truck\n",
            "Greedy prediction:\n",
            "  A group of men loading tree cones on a truck.\n",
            "-------------------------------------------------------------------\n",
            "Input:\n",
            "  Ein Mann schläft in einem grünen Raum auf einem Sofa.\n",
            "Target:\n",
            "  A man sleeping in a green room on a couch.\n",
            "Greedy prediction:\n",
            "  A man sleeping in a green room on a couch.\n",
            "-------------------------------------------------------------------\n",
            "Input:\n",
            "  Ein Junge mit Kopfhörern sitzt auf den Schultern einer Frau.\n",
            "Target:\n",
            "  A boy wearing headphones sits on a woman's shoulders.\n",
            "Greedy prediction:\n",
            "  A boy with headphones sitting on the shoulders of a woman.\n",
            "-------------------------------------------------------------------\n",
            "Input:\n",
            "  Zwei Männer bauen eine blaue Eisfischerhütte auf einem zugefrorenen See auf\n",
            "Target:\n",
            "  Two men setting up a blue ice fishing hut on an iced over lake\n",
            "Greedy prediction:\n",
            "  Two men building a blue ice cream cone on a frift lake.\n",
            "-------------------------------------------------------------------\n"
          ]
        }
      ],
      "source": [
        "print(\"Attention model validation BLEU using greedy search:\",\n",
        "      evaluate(attention_model, validation_data))\n",
        "print()\n",
        "print(\"Attention model sample predictions:\")\n",
        "print()\n",
        "show_predictions(attention_model)"
      ]
    },
    {
      "cell_type": "markdown",
      "metadata": {
        "id": "yG6kKmXnxNAX"
      },
      "source": [
        "## Inference with Beam Search\n",
        "\n",
        "Now we implement the more complex beam search decoder. In contrast to greedy search, which always chooses the most probable token as the next in the sequence, beam search saves the k most probable at each time step. The probabilities of each sentence are defined by the sum of the log probabilities of each individual token. The total scores are then normalized to account for predictions of variable length. Although more computationally intensive, it should perform better than greedy search because it looks at the scores of the entire sequences versus of the individual tokens at each time step."
      ]
    },
    {
      "cell_type": "code",
      "execution_count": 17,
      "metadata": {
        "colab": {
          "base_uri": "https://localhost:8080/"
        },
        "id": "7tPX9kqcxSfI",
        "outputId": "2aea8b1b-122f-4b9e-9cd5-66401a4862de"
      },
      "outputs": [
        {
          "output_type": "stream",
          "name": "stdout",
          "text": [
            "Baseline model validation BLEU using beam search: 24.448225041008318\n",
            "\n",
            "Baseline model sample predictions:\n",
            "\n",
            "Input:\n",
            "  Eine Gruppe von Männern lädt Baumwolle auf einen Lastwagen\n",
            "Target:\n",
            "  A group of men are loading cotton onto a truck\n",
            "Greedy prediction:\n",
            "  A group of men are doing repairs on a tree.\n",
            "Beam predictions:\n",
            "  A group of men are fixing bricks on a tree.\n",
            "  A group of men are doing repairs on a tree.\n",
            "  A group of men are putting up trash on a tree.\n",
            "  A group of men are fixing bricks on a tree stump.\n",
            "  A group of men are fixing a brick wall.\n",
            "-------------------------------------------------------------------\n",
            "Input:\n",
            "  Ein Mann schläft in einem grünen Raum auf einem Sofa.\n",
            "Target:\n",
            "  A man sleeping in a green room on a couch.\n",
            "Greedy prediction:\n",
            "  A man is sleeping on a green chair with a green book.\n",
            "Beam predictions:\n",
            "  A man is sleeping in a green chair on a couch.\n",
            "  A man is sleeping on a green chair with a green book.\n",
            "  A man sleeps in a green chair on a green couch.\n",
            "  A man sleeping in a green chair on a green couch.\n",
            "  A man is sleeping on a green chair with a guitar.\n",
            "-------------------------------------------------------------------\n",
            "Input:\n",
            "  Ein Junge mit Kopfhörern sitzt auf den Schultern einer Frau.\n",
            "Target:\n",
            "  A boy wearing headphones sits on a woman's shoulders.\n",
            "Greedy prediction:\n",
            "  A boy wearing suspenders sits on a bench with his woman.\n",
            "Beam predictions:\n",
            "  A boy wearing suspenders sits on a woman's shoulders.\n",
            "  A boy wearing suspenders sits on a bench with a woman.\n",
            "  A boy wearing suspenders sits on a bench.\n",
            "  A boy wearing suspenders sits on a woman's lap.\n",
            "  A boy wearing suspenders sits on a bench with his woman.\n",
            "-------------------------------------------------------------------\n",
            "Input:\n",
            "  Zwei Männer bauen eine blaue Eisfischerhütte auf einem zugefrorenen See auf\n",
            "Target:\n",
            "  Two men setting up a blue ice fishing hut on an iced over lake\n",
            "Greedy prediction:\n",
            "  Two men are setting up a tree in a lake, some sort of planting water.\n",
            "Beam predictions:\n",
            "  Two men are setting up a tree in a field of sort of houses.\n",
            "  Two men are setting up a tree in a lake or plant landscape.\n",
            "  Two men are setting up a tree in a field of houses.\n",
            "  Two men are setting up a tree in a field of houses built around them.\n",
            "  Two men are setting up a tree in a field of houses built around a house.\n",
            "-------------------------------------------------------------------\n"
          ]
        }
      ],
      "source": [
        "def predict_beam(model, sentences, k=5, max_length=100):\n",
        "  \"\"\"\n",
        "  Make predictions for the given inputs using beam search.\n",
        "\n",
        "  Args:\n",
        "    model: A sequence-to-sequence model.\n",
        "    sentences: A list of input sentences, represented as strings.\n",
        "    k: The size of the beam.\n",
        "    max_length: The maximum length at which to truncate outputs in order to\n",
        "      avoid non-terminating inference.\n",
        "\n",
        "  Returns:\n",
        "    A list of beam predictions. Each element in the list is a list of k\n",
        "    strings corresponding to the top k predictions for the corresponding input,\n",
        "    sorted in descending order by score.\n",
        "  \"\"\"\n",
        "\n",
        "  batch = make_batch(sentences)\n",
        "\n",
        "  with torch.no_grad():\n",
        "    # Encode all inputs at once\n",
        "    encoder_output, encoder_mask, encoder_hidden = model.encode(batch)\n",
        "    batch_size = batch.size(1)\n",
        "\n",
        "    # Decoder starts with BOS tokens for all items in batch\n",
        "    seq = torch.full((1, batch_size), bos_id, dtype=torch.long, device=device)\n",
        "    scores = torch.full((1, batch_size), 0.0, dtype=torch.long, device=device)\n",
        "\n",
        "    # Tensor that keeps track of finished sequences\n",
        "    finished = torch.zeros(batch_size, dtype=torch.bool, device=device)\n",
        "\n",
        "    # Decode\n",
        "    logits, decoder_hidden, attention_weights = model.decode(\n",
        "    seq, encoder_hidden, encoder_output, encoder_mask)\n",
        "\n",
        "    # Get the logits from the previous time step and apply softmax\n",
        "    next_logits = logits[-1, :, :]\n",
        "    next_logits = F.softmax(next_logits, dim=1)\n",
        "\n",
        "    # Get the top k tokens\n",
        "    topk_values, topk_indices = torch.topk(next_logits, k=k, dim=1)\n",
        "\n",
        "    # Expand to account for multiple inferences per sentence\n",
        "    seq = seq.repeat_interleave(k, dim=1)\n",
        "    scores = scores.repeat_interleave(k, dim=1)\n",
        "    scores = scores + torch.log(topk_values.reshape(-1,batch_size*k))\n",
        "    seq = torch.cat([seq, topk_indices.reshape(-1,batch_size*k)], dim=0)\n",
        "    finished = torch.zeros(batch_size * k, dtype=torch.bool, device=device)\n",
        "    finished |= (topk_indices.reshape(batch_size*k) == eos_id) | (\n",
        "        topk_indices.reshape(batch_size*k) == pad_id)\n",
        "\n",
        "    encoder_output = encoder_output.repeat_interleave(k, dim=1)\n",
        "    encoder_mask = encoder_mask.repeat_interleave(k, dim=1)\n",
        "    encoder_hidden = (encoder_hidden[0].repeat_interleave(k, dim=1),\n",
        "                      encoder_hidden[1].repeat_interleave(k, dim=1))\n",
        "\n",
        "    # Loop over time steps\n",
        "    for _ in range(max_length):\n",
        "\n",
        "      # Decode full sequence so far in one call\n",
        "      logits, decoder_hidden, attention_weights = model.decode(\n",
        "          seq, encoder_hidden, encoder_output, encoder_mask)\n",
        "\n",
        "      # Get the logits from the previous time step and apply softmax\n",
        "      next_logits = logits[-1, :, :]\n",
        "\n",
        "      # Pad sequence if finished\n",
        "      if finished.any():\n",
        "        next_logits[finished] += 1e9 * torch.eye((next_logits.size(1)),\n",
        "                                                   device=device)[pad_id]\n",
        "      # Apply softmax\n",
        "      next_logits = F.softmax(next_logits, dim=1)\n",
        "\n",
        "      # Get top k\n",
        "      topk_values, topk_indices = torch.topk(next_logits, k=k, dim=1)\n",
        "\n",
        "      # Repeat along batch_size dimension to account for keeping top k\n",
        "      seq_new = seq.repeat_interleave(k, dim=1)\n",
        "      scores_new = scores.repeat_interleave(k, dim=1)\n",
        "\n",
        "      # Concatenate sequences\n",
        "      seq_new = torch.cat([seq_new, topk_indices.reshape(-1,batch_size*k*k)],\n",
        "                            dim=0)\n",
        "      scores_new = scores_new + torch.log(topk_values.reshape(\n",
        "          -1,batch_size*k*k))\n",
        "\n",
        "      # Keep finished sequences on the beam\n",
        "      if finished.any():\n",
        "        finished_new = finished.repeat_interleave(k, dim=0)\n",
        "        indices = torch.nonzero(finished, as_tuple=False).squeeze()\n",
        "        target_indices = k * indices\n",
        "        finished_new[target_indices] = False\n",
        "        scores_new[0,finished_new] = -1e9\n",
        "\n",
        "      # Choose the top k for each in batch\n",
        "      scores_chunks = scores_new.view(1, batch_size, k*k)\n",
        "      top_vals, top_indices = torch.topk(scores_chunks, k=k, dim=2)\n",
        "      offsets = torch.arange(0, k*k*batch_size, k*k, device=device).view(\n",
        "            1, batch_size, 1)\n",
        "      global_indices = top_indices + offsets\n",
        "      top_vals = top_vals.view(1,-1)\n",
        "      global_indices = global_indices.view(-1)\n",
        "\n",
        "      # Now save selected indices of seq_new to seq and do the same for the\n",
        "      # scores\n",
        "      seq = seq_new[:, global_indices]\n",
        "      scores = scores_new[:, global_indices]\n",
        "\n",
        "      # The sequence is finished if it chooses an EOS or padding token\n",
        "      finished = torch.isin(seq[-1, :], torch.tensor([eos_id, pad_id],\n",
        "                                          device=seq.device)).reshape(-1)\n",
        "      # Break if all predictions finish early\n",
        "      if finished.all():\n",
        "        break\n",
        "\n",
        "    # Normalize over length\n",
        "    nonzero_counts = (seq != 0).sum(dim=0)\n",
        "    # Dive Into Deep Learning mentions using L^a, a = 0.75 for the\n",
        "    # normalization:\n",
        "    # https://d2l.ai/chapter_recurrent-modern/beam-search.html\n",
        "    normalized_scores = scores / nonzero_counts**0.75\n",
        "\n",
        "    # Sort by probability\n",
        "    normalized_scores_reshaped = normalized_scores.view(-1, k)\n",
        "    sorted_vals, sorted_ind = torch.sort(normalized_scores_reshaped, dim=1,\n",
        "                                         descending=True)\n",
        "    offsets = torch.arange(0, k*batch_size, k, device=device).reshape(-1,1)\n",
        "    offsets= offsets.repeat_interleave(k, dim=1)\n",
        "    sorted_ind = sorted_ind + offsets\n",
        "    sorted_ind = sorted_ind.view(-1)\n",
        "    seq = seq[:,sorted_ind]\n",
        "\n",
        "    # Convert token IDs to text\n",
        "    decoded_sentences = []\n",
        "    for i in range(batch_size):\n",
        "      k_sentences = []\n",
        "      for j in range(k):\n",
        "        ids = seq[:, i*k+j].tolist()\n",
        "        decoded = vocab.DecodeIds(ids)\n",
        "        k_sentences.append(decoded)\n",
        "      decoded_sentences.append(k_sentences)\n",
        "\n",
        "  return decoded_sentences\n",
        "\n",
        "print(\"Baseline model validation BLEU using beam search:\",\n",
        "      evaluate(baseline_model, validation_data, method=\"beam\"))\n",
        "print()\n",
        "print(\"Baseline model sample predictions:\")\n",
        "print()\n",
        "show_predictions(baseline_model, include_beam=True)"
      ]
    },
    {
      "cell_type": "code",
      "execution_count": 18,
      "metadata": {
        "colab": {
          "base_uri": "https://localhost:8080/"
        },
        "id": "8NIoSPgLxVeB",
        "outputId": "2d392fad-85db-4c9d-a2ec-dac33f668b8a"
      },
      "outputs": [
        {
          "output_type": "stream",
          "name": "stdout",
          "text": [
            "Attention model validation BLEU using beam search: 37.12352348132001\n",
            "\n",
            "Attention model sample predictions:\n",
            "\n",
            "Input:\n",
            "  Eine Gruppe von Männern lädt Baumwolle auf einen Lastwagen\n",
            "Target:\n",
            "  A group of men are loading cotton onto a truck\n",
            "Greedy prediction:\n",
            "  A group of men loading tree cones on a truck.\n",
            "Beam predictions:\n",
            "  A group of men loading logs on a truck.\n",
            "  A group of men loading tree cones on a truck.\n",
            "  A group of men loading tree truck on a truck.\n",
            "  A group of men loading logs onto a truck.\n",
            "  A group of men loading logs in a truck.\n",
            "-------------------------------------------------------------------\n",
            "Input:\n",
            "  Ein Mann schläft in einem grünen Raum auf einem Sofa.\n",
            "Target:\n",
            "  A man sleeping in a green room on a couch.\n",
            "Greedy prediction:\n",
            "  A man sleeping in a green room on a couch.\n",
            "Beam predictions:\n",
            "  A man sleeping in a green room on a couch.\n",
            "  A man sleeping on a couch in a green room.\n",
            "  A man sleeps on a couch in a green room.\n",
            "  A man sleeps in a green room on a couch.\n",
            "  A man is sleeping in a green room on a couch.\n",
            "-------------------------------------------------------------------\n",
            "Input:\n",
            "  Ein Junge mit Kopfhörern sitzt auf den Schultern einer Frau.\n",
            "Target:\n",
            "  A boy wearing headphones sits on a woman's shoulders.\n",
            "Greedy prediction:\n",
            "  A boy with headphones sitting on the shoulders of a woman.\n",
            "Beam predictions:\n",
            "  A boy with headphones sitting on the shoulders of a woman.\n",
            "  A boy with headphones sits on the shoulders of a woman.\n",
            "  A boy wearing headphones sitting on the shoulders of a woman.\n",
            "  A boy with headphones on sitting on the shoulders of a woman.\n",
            "  A young boy with headphones sitting on the shoulders of a woman.\n",
            "-------------------------------------------------------------------\n",
            "Input:\n",
            "  Zwei Männer bauen eine blaue Eisfischerhütte auf einem zugefrorenen See auf\n",
            "Target:\n",
            "  Two men setting up a blue ice fishing hut on an iced over lake\n",
            "Greedy prediction:\n",
            "  Two men building a blue ice cream cone on a frift lake.\n",
            "Beam predictions:\n",
            "  Two men work across a blue ice cream lake.\n",
            "  Two men are building a blue ice cream cone on a fany lake.\n",
            "  Two men are building a blue ice cream cone on a frift lake.\n",
            "  Two men are building a blue ice cream cone on a tree.\n",
            "  Two men are building a blue ice cream cone on a frid lake.\n",
            "-------------------------------------------------------------------\n"
          ]
        }
      ],
      "source": [
        "print(\"Attention model validation BLEU using beam search:\",\n",
        "      evaluate(attention_model, validation_data, method=\"beam\"))\n",
        "print()\n",
        "print(\"Attention model sample predictions:\")\n",
        "print()\n",
        "show_predictions(attention_model, include_beam=True)"
      ]
    },
    {
      "cell_type": "markdown",
      "metadata": {
        "id": "lkw7Z7rmxYII"
      },
      "source": [
        "## Visualizing attention: a proxy for word alignment"
      ]
    },
    {
      "cell_type": "code",
      "execution_count": 19,
      "metadata": {
        "colab": {
          "base_uri": "https://localhost:8080/",
          "height": 804
        },
        "id": "NnwezeRkxZUJ",
        "outputId": "0afe788c-8e9b-469e-aac1-9e49c40cb419"
      },
      "outputs": [
        {
          "output_type": "display_data",
          "data": {
            "text/plain": [
              "<Figure size 1000x800 with 2 Axes>"
            ],
            "image/png": "[encoded data removed]"
          },
          "metadata": {}
        }
      ],
      "source": [
        "import matplotlib.pyplot as plt\n",
        "import seaborn as sns\n",
        "\n",
        "# Take a source/target pair and visualize the attention weights using a heatmap\n",
        "source = [\"Eine Gruppe von Männern lädt Baumwolle auf einen Lastwagen\"]\n",
        "source = make_batch(source)\n",
        "target = [\"A group of men are loading cotton onto a truck\"]\n",
        "target = make_batch(target)\n",
        "\n",
        "# Get the attention weights for this source/target pair\n",
        "attention_model.eval()\n",
        "with torch.no_grad():\n",
        "    encoder_output, encoder_mask, encoder_hidden = attention_model.encode(\n",
        "        source)\n",
        "    decoder_input = target[:-1]\n",
        "    logits, _, attention_weights = attention_model.decode(decoder_input,\n",
        "                                  encoder_hidden, encoder_output, encoder_mask)\n",
        "\n",
        "# Shape to matrix\n",
        "attention_matrix = attention_weights[:, 0, :].cpu().numpy()\n",
        "\n",
        "# Get actual token from sentencepiece so we can visualize\n",
        "source_pieces = vocab.IdToPiece(source[:, 0].tolist())\n",
        "target_pieces = vocab.IdToPiece(target[1:, 0].tolist())\n",
        "\n",
        "# Plot\n",
        "plt.figure(figsize=(10, 8))\n",
        "sns.heatmap(attention_matrix, xticklabels=source_pieces,\n",
        "            yticklabels=target_pieces, cmap='viridis')\n",
        "plt.xlabel(\"Source Tokens\",fontsize=20)\n",
        "plt.ylabel(\"Target Tokens\",fontsize=20)\n",
        "plt.title(\"Attention Weights\")\n",
        "plt.show()\n"
      ]
    },
    {
      "cell_type": "markdown",
      "metadata": {
        "id": "wBb5tEVDxebN"
      },
      "source": [
        "Very cool! The model gets a lot of the 1-1 word translations correct like \"truck = Lastwagen\" and \"men = Männern.\" It also roughly captures the situation in which there is not a 1-1 mapping like \"lädt = is loading,\" in which case the model predicts \"lädt = are load.\""
      ]
    },
    {
      "cell_type": "markdown",
      "metadata": {
        "id": "V33JqE83xfCh"
      },
      "source": [
        "#Acknowledgements\n",
        "This project was adapted from UC Berkeley's CS288: Natural Language Processing course: https://cal-cs288.github.io/sp22/"
      ]
    }
  ],
  "metadata": {
    "accelerator": "GPU",
    "colab": {
      "gpuType": "T4",
      "provenance": []
    },
    "kernelspec": {
      "display_name": "Python 3",
      "name": "python3"
    },
    "language_info": {
      "name": "python"
    }
  },
  "nbformat": 4,
  "nbformat_minor": 0
}